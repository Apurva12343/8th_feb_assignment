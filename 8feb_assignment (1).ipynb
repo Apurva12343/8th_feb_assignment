{
 "cells": [
  {
   "cell_type": "code",
   "execution_count": 1,
   "id": "1359b8da-e6cf-4dd0-b55f-a67db2e99549",
   "metadata": {},
   "outputs": [],
   "source": [
    "# Q1. What is Abstraction in OOps? Explain with an example."
   ]
  },
  {
   "cell_type": "code",
   "execution_count": 2,
   "id": "ec34ad5b-5fa5-4331-9097-f321723afa72",
   "metadata": {},
   "outputs": [],
   "source": [
    "# Abstraction in Python is the process of hiding implementation details and showing only the necessary information to the user. This can be achieved using classes and objects in Python.\n",
    "class BankAccount:\n",
    "    def __init__(self, balance):\n",
    "        self.balance = balance\n",
    "\n",
    "    def deposit(self, amount):\n",
    "        self.balance += amount\n",
    "\n",
    "    def withdraw(self, amount):\n",
    "        if amount <= self.balance:\n",
    "            self.balance -= amount\n",
    "        else:\n",
    "            print(\"Insufficient balance\")\n",
    "\n",
    "    def get_balance(self):\n",
    "        return self.balance\n",
    "# In this example, the BankAccount class represents a bank account with a balance. The class has methods for depositing and withdrawing money from the account, as well as a method for getting the current balance."
   ]
  },
  {
   "cell_type": "code",
   "execution_count": 3,
   "id": "16084f7f-4a37-4a47-8185-b23fa5ff698c",
   "metadata": {},
   "outputs": [],
   "source": [
    "# Q2. Differentiate between Abstraction and Encapsulation. Explain with an example."
   ]
  },
  {
   "cell_type": "code",
   "execution_count": 4,
   "id": "c86b3e94-c90a-4a73-a4d3-ac78d694185a",
   "metadata": {},
   "outputs": [],
   "source": [
    "# Abstraction is the process of hiding the implementation details and exposing only the necessary information to the user. It focuses on creating a simplified view of a complex system by ignoring the irrelevant details. Abstraction can be achieved using abstract classes, interfaces, or methods in programming.\n",
    "# Encapsulation is the process of wrapping data and code into a single unit, known as a class. It is a way to protect data from unauthorized access or modification by restricting access to the internal details of a class. Encapsulation can be achieved using access modifiers such as public, private, and protected in programming.\n",
    "\n",
    "#example of abstraction:\n",
    "class BankAccount:\n",
    "    def __init__(self, balance):\n",
    "        self.balance = balance\n",
    "\n",
    "    def deposit(self, amount):\n",
    "        self.balance += amount\n",
    "\n",
    "    def withdraw(self, amount):\n",
    "        if amount <= self.balance:\n",
    "            self.balance -= amount\n",
    "        else:\n",
    "            print(\"Insufficient balance\")\n",
    "\n",
    "    def get_balance(self):\n",
    "        return self.balance\n",
    "#example of Encapsulation:\n",
    "class bank_account :\n",
    "    def __init__(self,balance):\n",
    "        self.__balance = balance\n",
    "        \n",
    "    def deposit(self , amount) :\n",
    "        self.__balance = self.__balance + amount\n",
    "        \n",
    "    def withdraw(self , amount) :\n",
    "        if self.__balance >= amount:\n",
    "            self.__balance = self.__balance - amount\n",
    "            return True\n",
    "        else:\n",
    "            return print(\"Insufficient balance\")\n",
    "        \n",
    "    def get_balance(self):\n",
    "        return self.__balance"
   ]
  },
  {
   "cell_type": "code",
   "execution_count": 5,
   "id": "fc8c0bfd-8ce3-4072-97ce-501870d02273",
   "metadata": {},
   "outputs": [],
   "source": [
    "# Q3. What is abc module in python? Why is it used?"
   ]
  },
  {
   "cell_type": "code",
   "execution_count": 6,
   "id": "91c32751-b04e-4c96-9366-d2dd18951dc4",
   "metadata": {},
   "outputs": [],
   "source": [
    "# The abc module in Python stands for Abstract Base Classes. It provides a way to define abstract base classes in Python. An abstract base class is a class that contains one or more abstract methods, which do not have an implementation in the base class. Instead, the implementation is provided by the derived classes that inherit from the abstract base class.\n",
    "# The abc module is used to implement abstract classes and methods in Python. It allows us to define interfaces or contracts that must be implemented by the derived classes. This helps to enforce a certain structure and behavior in the derived classes, making them more predictable and easier to work with."
   ]
  },
  {
   "cell_type": "code",
   "execution_count": 7,
   "id": "a9497c0d-fc51-4426-ac37-47d49692be13",
   "metadata": {},
   "outputs": [],
   "source": [
    "# Q4. How can we achieve data abstraction? "
   ]
  },
  {
   "cell_type": "code",
   "execution_count": 8,
   "id": "9d17d0d6-f683-4ded-9932-fbcb0a053e75",
   "metadata": {},
   "outputs": [],
   "source": [
    "# *** Here are some ways to achieve data abstraction in Python:\n",
    "\n",
    "# Define abstract classes: In Python, abstract classes can be defined using the abc module. By defining an abstract class, you can ensure that all derived classes implement the required methods.\n",
    "\n",
    "# Use interfaces: Python does not have a built-in interface mechanism, but you can achieve similar functionality using abstract base classes.\n",
    "\n",
    "# Use access modifiers: In Python, you can use access modifiers such as underscores to limit the visibility of certain data members or methods. For example, you can use a single underscore to indicate that a method or data member is intended to be private and should not be accessed from outside the class."
   ]
  },
  {
   "cell_type": "code",
   "execution_count": 9,
   "id": "f3e9f6fb-66f6-43ce-99ed-675f0ab586d3",
   "metadata": {},
   "outputs": [],
   "source": [
    "# Q5. Can we create an instance of an abstract class? Explain your answer. "
   ]
  },
  {
   "cell_type": "code",
   "execution_count": 10,
   "id": "1d7a6252-0dc8-438e-97d3-69d3a30b1964",
   "metadata": {},
   "outputs": [
    {
     "ename": "TypeError",
     "evalue": "Can't instantiate abstract class Animal with abstract method speak",
     "output_type": "error",
     "traceback": [
      "\u001b[0;31m---------------------------------------------------------------------------\u001b[0m",
      "\u001b[0;31mTypeError\u001b[0m                                 Traceback (most recent call last)",
      "Cell \u001b[0;32mIn [10], line 11\u001b[0m\n\u001b[1;32m      7\u001b[0m     \u001b[38;5;129m@abstractmethod\u001b[39m\n\u001b[1;32m      8\u001b[0m     \u001b[38;5;28;01mdef\u001b[39;00m \u001b[38;5;21mspeak\u001b[39m(\u001b[38;5;28mself\u001b[39m):\n\u001b[1;32m      9\u001b[0m         \u001b[38;5;28;01mpass\u001b[39;00m\n\u001b[0;32m---> 11\u001b[0m animal \u001b[38;5;241m=\u001b[39m \u001b[43mAnimal\u001b[49m\u001b[43m(\u001b[49m\u001b[43m)\u001b[49m\n",
      "\u001b[0;31mTypeError\u001b[0m: Can't instantiate abstract class Animal with abstract method speak"
     ]
    }
   ],
   "source": [
    "# No, we cannot create an instance of an abstract class in Python or any other object-oriented programming language. An abstract class is a class that contains one or more abstract methods, which do not have an implementation in the base class. Instead, the implementation is provided by the derived classes that inherit from the abstract base class.\n",
    "\n",
    "# Since abstract classes are incomplete and do not have a complete implementation of all the required methods, they cannot be instantiated. Attempting to create an instance of an abstract class in Python will result in a TypeError\n",
    "from abc import ABC, abstractmethod\n",
    "\n",
    "class Animal(ABC):\n",
    "    @abstractmethod\n",
    "    def speak(self):\n",
    "        pass\n",
    "    \n",
    "animal = Animal()  # This will result in a TypeError"
   ]
  },
  {
   "cell_type": "code",
   "execution_count": null,
   "id": "2e6239b5-78f4-49ae-925d-4b677a9ed32a",
   "metadata": {},
   "outputs": [],
   "source": []
  }
 ],
 "metadata": {
  "kernelspec": {
   "display_name": "Python 3 (ipykernel)",
   "language": "python",
   "name": "python3"
  },
  "language_info": {
   "codemirror_mode": {
    "name": "ipython",
    "version": 3
   },
   "file_extension": ".py",
   "mimetype": "text/x-python",
   "name": "python",
   "nbconvert_exporter": "python",
   "pygments_lexer": "ipython3",
   "version": "3.10.6"
  }
 },
 "nbformat": 4,
 "nbformat_minor": 5
}
